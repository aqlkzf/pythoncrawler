{
 "metadata": {
  "language_info": {
   "codemirror_mode": {
    "name": "ipython",
    "version": 3
   },
   "file_extension": ".py",
   "mimetype": "text/x-python",
   "name": "python",
   "nbconvert_exporter": "python",
   "pygments_lexer": "ipython3",
   "version": "3.8.5-final"
  },
  "orig_nbformat": 2,
  "kernelspec": {
   "name": "python3",
   "display_name": "Python 3",
   "language": "python"
  }
 },
 "nbformat": 4,
 "nbformat_minor": 2,
 "cells": [
  {
   "source": [
    "## 设置鼠标动作链"
   ],
   "cell_type": "markdown",
   "metadata": {}
  },
  {
   "cell_type": "code",
   "execution_count": null,
   "metadata": {},
   "outputs": [],
   "source": [
    "from selenium import webdriver\n",
    "from selenium.webdriver import ActionChains\n"
   ]
  },
  {
   "cell_type": "code",
   "execution_count": null,
   "metadata": {},
   "outputs": [],
   "source": [
    "import selenium\n",
    "help(selenium)"
   ]
  },
  {
   "cell_type": "code",
   "execution_count": null,
   "metadata": {},
   "outputs": [],
   "source": [
    "from selenium import webdriver  # 来操纵浏览器\n",
    "from selenium.common.exceptions import TimeoutException \n",
    "from selenium.webdriver.support.ui import WebDriverWait\n",
    "from selenium.webdriver.support import expected_conditions as  EC \n",
    "import time\n",
    "\n",
    "\n",
    "driver=webdriver.Chrome()  # chromedriver.exe   形成操纵谷歌浏览器的driver\n",
    "\n",
    "driver.get(\"http://www.baidu.com\")\n",
    "\n",
    "print(driver.title)\n",
    "\n",
    "inputElement=driver.find_element_by_id(\"kw\")\n",
    "\n",
    "inputElement.send_keys(\"selenium\")\n",
    "\n",
    "inputElement.submit()\n",
    "\n",
    "\n",
    "try:\n",
    "    WebDriverWait(driver,10).until(EC.title_contains(\"selenium\"))\n",
    "\n",
    "    print(driver.title)\n",
    "\n",
    "    time.sleep(10)\n",
    "except Exception as e:\n",
    "    print(e)\n",
    "finally:\n",
    "    driver.quit()\n"
   ]
  },
  {
   "source": [
    "## 获取页面和页面元素"
   ],
   "cell_type": "markdown",
   "metadata": {}
  },
  {
   "cell_type": "code",
   "execution_count": null,
   "metadata": {},
   "outputs": [],
   "source": [
    "from selenium import webdriver  # 来操纵浏览器\n",
    "from selenium.common.exceptions import TimeoutException \n",
    "from selenium.webdriver.support.ui import WebDriverWait\n",
    "from selenium.webdriver.support import expected_conditions as  EC \n",
    "import time\n",
    "\n",
    "\n",
    "driver=webdriver.Chrome()  # chromedriver.exe   形成操纵谷歌浏览器的driver\n",
    "\n",
    "driver.get(\"http://www.baidu.com\")\n",
    "\n",
    "print(driver.title)\n",
    "\n",
    "inputElement=driver.find_element_by_id(\"kw\")\n",
    "\n",
    "inputElement.send_keys(\"selenium\")\n",
    "\n",
    "inputElement.submit()\n",
    "\n",
    "\n",
    "try:\n",
    "    WebDriverWait(driver,10).until(EC.title_contains(\"selenium\"))\n",
    "\n",
    "    print(driver.title)\n",
    "    results=driver.find_elements_by_xpath(\"//h3/a\")\n",
    "\n",
    "    for r in results:\n",
    "        print(r.text)\n",
    "\n",
    "\n",
    "    #print(results)\n",
    "\n",
    "\n",
    "\n",
    "    time.sleep(10)\n",
    "except Exception as e:\n",
    "    print(e)\n",
    "finally:\n",
    "    driver.quit()\n"
   ]
  },
  {
   "source": [
    "## 设置鼠标动作链\n"
   ],
   "cell_type": "markdown",
   "metadata": {}
  },
  {
   "cell_type": "code",
   "execution_count": null,
   "metadata": {},
   "outputs": [],
   "source": []
  },
  {
   "cell_type": "code",
   "execution_count": null,
   "metadata": {},
   "outputs": [],
   "source": [
    "#鼠标移动到某个元素的位置\n",
    "from selenium import webdriver\n",
    "from selenium.webdriver import ActionChains\n",
    "import time\n",
    "\n",
    "driver = webdriver.Chrome()\n",
    "driver.get(\"http://www.baidu.com\")\n",
    "ac=driver.find_element_by_xpath('//div/a[@href=\"http://news.baidu.com\"]')\n",
    "ActionChains(driver).move_to_element(ac).perform()\n",
    "time.sleep(10)"
   ]
  },
  {
   "cell_type": "code",
   "execution_count": null,
   "metadata": {},
   "outputs": [],
   "source": [
    "# 将鼠标移动到某个元素位置并单击\n",
    "from selenium import webdriver\n",
    "from selenium.webdriver import ActionChains\n",
    "import time\n",
    "\n",
    "driver = webdriver.Chrome()\n",
    "driver.get(\"http://www.baidu.com\")\n",
    "ac=driver.find_element_by_xpath('//div/a[@href=\"http://news.baidu.com\"]')\n",
    "ActionChains(driver).move_to_element(ac).click(ac).perform()\n",
    "time.sleep(10)"
   ]
  },
  {
   "cell_type": "code",
   "execution_count": null,
   "metadata": {},
   "outputs": [],
   "source": [
    "#将鼠标移动到某个元素位置双击\n",
    "from selenium import webdriver\n",
    "from selenium.webdriver import ActionChains\n",
    "import time\n",
    "\n",
    "driver = webdriver.Chrome()\n",
    "driver.get(\"http://www.baidu.com\")\n",
    "ac=driver.find_element_by_xpath('//div/a[@href=\"http://news.baidu.com\"]')\n",
    "ActionChains(driver).move_to_element(ac).doubleclick(ac).perform()\n",
    "time.sleep(10)"
   ]
  },
  {
   "cell_type": "code",
   "execution_count": null,
   "metadata": {},
   "outputs": [],
   "source": [
    "#在某个元素右击\n",
    "from selenium import webdriver\n",
    "from selenium.webdriver import ActionChains\n",
    "import time\n",
    "\n",
    "driver = webdriver.Chrome()\n",
    "driver.get(\"http://www.baidu.com\")\n",
    "ac=driver.find_element_by_xpath('//div/a[@href=\"http://news.baidu.com\"]')\n",
    "ActionChains(driver).move_to_element(ac).context_click(ac).perform()\n",
    "time.sleep(10)"
   ]
  },
  {
   "cell_type": "code",
   "execution_count": null,
   "metadata": {},
   "outputs": [],
   "source": [
    "#在某个元素的位置左键单击并hold住\n",
    "\n",
    "from selenium import webdriver\n",
    "from selenium.webdriver import ActionChains\n",
    "import time\n",
    "\n",
    "driver = webdriver.Chrome()\n",
    "driver.get(\"http://www.baidu.com\")\n",
    "ac=driver.find_element_by_xpath('//div/a[@href=\"http://news.baidu.com\"]')\n",
    "ActionChains(driver).move_to_element(ac).click_and_hold(ac).perform()\n",
    "time.sleep(10)"
   ]
  },
  {
   "cell_type": "code",
   "execution_count": null,
   "metadata": {},
   "outputs": [],
   "source": [
    "#将元素拖拽到另一个元素的位置\n",
    "from selenium import webdriver\n",
    "from selenium.webdriver import ActionChains\n",
    "import time\n",
    "\n",
    "driver = webdriver.Chrome()\n",
    "driver.get(\"http://www.baidu.com\")\n",
    "ac1=driver.find_element_by_xpath('//div/a[@href=\"http://news.baidu.com\"]')\n",
    "\n",
    "ac2=driver.find_element_by_xpath('//input[@id=\"kw\"]')\n",
    "ActionChains(driver).drag_and_drop(ac1,ac2).perform()\n",
    "time.sleep(10)\n",
    "\n"
   ]
  },
  {
   "source": [
    "## 执行Javascript\n",
    "#使用selenium执行自定义的javascr脚本，来查找所需的页面元素"
   ],
   "cell_type": "markdown",
   "metadata": {}
  },
  {
   "cell_type": "code",
   "execution_count": 6,
   "metadata": {},
   "outputs": [
    {
     "output_type": "stream",
     "name": "stdout",
     "text": [
      "QQ注册\nlianghao-key\nnickname\npassword\nphone\n\ncode\nget_acc\nagree\n"
     ]
    }
   ],
   "source": [
    "from selenium import webdriver  # 来操纵浏览器\n",
    "from selenium.common.exceptions import TimeoutException \n",
    "from selenium.webdriver.support.ui import WebDriverWait\n",
    "from selenium.webdriver.support import expected_conditions as  EC \n",
    "import time\n",
    "\n",
    "driver=webdriver.Chrome()\n",
    "\n",
    "driver.get(\"https://ssl.zc.qq.com/v3/index-chs.html\")\n",
    "\n",
    "print(driver.title)\n",
    "\n",
    "try:\n",
    "    WebDriverWait(driver,10).until(EC.title_contains(\"QQ注册\"))\n",
    "\n",
    "    inputs=driver.execute_script(\"var inputs=[];inputs.push(document.getElementsByTagName(\\\"input\\\")); return inputs;\")\n",
    "\n",
    "    for i in inputs[0]:\n",
    "        print(i.get_attribute(\"id\"))\n",
    "\n",
    "    time.sleep(10)\n",
    "\n",
    "except Exception as e:\n",
    "    print(e)\n",
    "\n",
    "finally:\n",
    "    driver.quit()"
   ]
  },
  {
   "source": [
    "# 使用selenium在窗口和frame框架之间切换并提交登录表单"
   ],
   "cell_type": "markdown",
   "metadata": {}
  },
  {
   "cell_type": "code",
   "execution_count": 12,
   "metadata": {},
   "outputs": [
    {
     "output_type": "stream",
     "name": "stdout",
     "text": [
      "学堂在线 - 国家精品在线课程学习平台\n",
      "Message: \n",
      "\n"
     ]
    }
   ],
   "source": [
    "\n",
    "\n",
    "from selenium import webdriver\n",
    "from selenium.common.exceptions import TimeoutException\n",
    "from selenium.webdriver.support.ui import WebDriverWait\n",
    "from selenium.webdriver.support import expected_conditions as EC \n",
    "import time\n",
    "from selenium.webdriver.common.by import By\n",
    "\n",
    "\n",
    "try:\n",
    "    driver=webdriver.Chrome()\n",
    "    driver.get(\"http://xuetangx.com/\")\n",
    "\n",
    "    print(driver.title)\n",
    "\n",
    "\n",
    "    #显示等待10s，直到出现“学堂在线—国家精品课程在线学习平台”，否则返回超时错误。\n",
    "    WebDriverWait(driver,10).until(EC.title_contains(\"学堂在线—国家精品课程在线学习平台\"))\n",
    "\n",
    "    loginlink=driver.find_element_by_id(\"header_login\")\n",
    "\n",
    "    loginlink.click()\n",
    "    #等待登录modal出现\n",
    "    WebDriverWait(driver,10).until(EC.visibility_of(driver.find_element_by_id(\"g_modal\")))\n",
    "\n",
    "    driver.find_element_by_xpath(\"//a[@data-description=\\\"TOLOGIN#WEIBO\\\"]\").click()\n",
    "\n",
    "    #等待微博登录页面出现 \n",
    "    WebDriverWait(driver,10).until(EC.new_window_is_opened)\n",
    "\n",
    "    for handle in driver.window_handles:\n",
    "        driver.switch_to.window(handle)\n",
    "        if driver.title.find(\"网站连接\") >-1:\n",
    "            print(driver.title)\n",
    "            WebDriverWait(driver,10).until(EC.title_contains(\"网站连接\"))\n",
    "\n",
    "            weibo_username=WebDriverWait(driver,10).until(EC.presence_of_all_elements_located(By.XPATH,'//input[@id=\"userId\"]'))\n",
    "            weibo_username.send_keys('13611112222')\n",
    "            weibo_password=WebDriverWait(driver,10).until(EC.presence_of_all_elements_located(By.XPATH,'//input[@id=\"passwd\"]'))\n",
    "            weibo_username.send_keys('asdfghjkl12345')\n",
    "\n",
    "            time.sleep(10)\n",
    "            webo_submit=WebDriverWait(driver,10).until(EC.presence_of_all_elements_located(By.XPATH,\"//a[@class=\\\"WB_btn_login formbtn_01\\\"]\"))\n",
    "            webo_submit.click()\n",
    "\n",
    "\n",
    "            time.sleep(10)\n",
    "\n",
    "            break\n",
    "except Exception as e:\n",
    "    print(e)\n",
    "finally:\n",
    "    driver.quit()\n",
    "\n",
    "\n"
   ]
  }
 ]
}