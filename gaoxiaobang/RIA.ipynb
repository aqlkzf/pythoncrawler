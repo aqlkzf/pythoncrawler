{
 "metadata": {
  "language_info": {
   "codemirror_mode": {
    "name": "ipython",
    "version": 3
   },
   "file_extension": ".py",
   "mimetype": "text/x-python",
   "name": "python",
   "nbconvert_exporter": "python",
   "pygments_lexer": "ipython3",
   "version": "3.8.5-final"
  },
  "orig_nbformat": 2,
  "kernelspec": {
   "name": "python3",
   "display_name": "Python 3",
   "language": "python"
  }
 },
 "nbformat": 4,
 "nbformat_minor": 2,
 "cells": [
  {
   "source": [
    "## 设置鼠标动作链"
   ],
   "cell_type": "markdown",
   "metadata": {}
  },
  {
   "cell_type": "code",
   "execution_count": null,
   "metadata": {},
   "outputs": [],
   "source": [
    "from selenium import webdriver\n",
    "from selenium.webdriver import ActionChains\n"
   ]
  },
  {
   "cell_type": "code",
   "execution_count": null,
   "metadata": {},
   "outputs": [],
   "source": [
    "import selenium\n",
    "help(selenium)"
   ]
  },
  {
   "cell_type": "code",
   "execution_count": 21,
   "metadata": {},
   "outputs": [
    {
     "output_type": "stream",
     "name": "stdout",
     "text": [
      "百度一下，你就知道\n",
      "selenium_百度搜索\n"
     ]
    }
   ],
   "source": [
    "from selenium import webdriver  # 来操纵浏览器\n",
    "from selenium.common.exceptions import TimeoutException \n",
    "from selenium.webdriver.support.ui import WebDriverWait\n",
    "from selenium.webdriver.support import expected_conditions as  EC \n",
    "import time\n",
    "\n",
    "\n",
    "driver=webdriver.Chrome()  # chromedriver.exe   形成操纵谷歌浏览器的driver\n",
    "\n",
    "driver.get(\"http://www.baidu.com\")\n",
    "\n",
    "print(driver.title)\n",
    "\n",
    "inputElement=driver.find_element_by_id(\"kw\")\n",
    "\n",
    "inputElement.send_keys(\"selenium\")\n",
    "\n",
    "inputElement.submit()\n",
    "\n",
    "\n",
    "try:\n",
    "    WebDriverWait(driver,10).until(EC.title_contains(\"selenium\"))\n",
    "\n",
    "    print(driver.title)\n",
    "\n",
    "    time.sleep(10)\n",
    "except Exception as e:\n",
    "    print(e)\n",
    "finally:\n",
    "    driver.quit()\n"
   ]
  },
  {
   "source": [
    "## 获取页面和页面元素"
   ],
   "cell_type": "markdown",
   "metadata": {}
  },
  {
   "cell_type": "code",
   "execution_count": 28,
   "metadata": {},
   "outputs": [
    {
     "output_type": "stream",
     "name": "stdout",
     "text": [
      "百度一下，你就知道\n",
      "selenium_百度搜索\n",
      "Selenium automates browsers. That's it!\n",
      "Selenium(WEB自动化工具) - 百度百科\n",
      "selenium__软件测试培训_免费领取试听课程\n",
      "selenium中文网 | selenium安装、selenium使用、selenium...\n",
      "Python+Selenium详解(超全)\n",
      "Python Selenium库的使用_凯耐的博客-CSDN博客_selenium\n",
      "Selenium教程系列(一):介绍_kingzhsh的博客-CSDN博客_sele...\n",
      "selenium库的基本使用 - 小董不太懂 - 简书\n",
      "selenium - 百度翻译\n",
      "selenium grid和docker的几个疑问 - 霍格沃兹答疑区 - 测...\n"
     ]
    }
   ],
   "source": [
    "from selenium import webdriver  # 来操纵浏览器\n",
    "from selenium.common.exceptions import TimeoutException \n",
    "from selenium.webdriver.support.ui import WebDriverWait\n",
    "from selenium.webdriver.support import expected_conditions as  EC \n",
    "import time\n",
    "\n",
    "\n",
    "driver=webdriver.Chrome()  # chromedriver.exe   形成操纵谷歌浏览器的driver\n",
    "\n",
    "driver.get(\"http://www.baidu.com\")\n",
    "\n",
    "print(driver.title)\n",
    "\n",
    "inputElement=driver.find_element_by_id(\"kw\")\n",
    "\n",
    "inputElement.send_keys(\"selenium\")\n",
    "\n",
    "inputElement.submit()\n",
    "\n",
    "\n",
    "try:\n",
    "    WebDriverWait(driver,10).until(EC.title_contains(\"selenium\"))\n",
    "\n",
    "    print(driver.title)\n",
    "    results=driver.find_elements_by_xpath(\"//h3/a\")\n",
    "\n",
    "    for r in results:\n",
    "        print(r.text)\n",
    "\n",
    "\n",
    "    #print(results)\n",
    "\n",
    "\n",
    "\n",
    "    time.sleep(10)\n",
    "except Exception as e:\n",
    "    print(e)\n",
    "finally:\n",
    "    driver.quit()\n"
   ]
  },
  {
   "source": [
    "## 设置鼠标动作链\n"
   ],
   "cell_type": "markdown",
   "metadata": {}
  },
  {
   "cell_type": "code",
   "execution_count": 32,
   "metadata": {},
   "outputs": [
    {
     "output_type": "error",
     "ename": "TypeError",
     "evalue": "'module' object is not callable",
     "traceback": [
      "\u001b[1;31m---------------------------------------------------------------------------\u001b[0m",
      "\u001b[1;31mTypeError\u001b[0m                                 Traceback (most recent call last)",
      "\u001b[1;32m<ipython-input-32-034da045fd04>\u001b[0m in \u001b[0;36m<module>\u001b[1;34m\u001b[0m\n\u001b[0;32m      1\u001b[0m \u001b[1;32mfrom\u001b[0m \u001b[0mselenium\u001b[0m \u001b[1;32mimport\u001b[0m \u001b[0mwebdriver\u001b[0m\u001b[1;33m\u001b[0m\u001b[1;33m\u001b[0m\u001b[0m\n\u001b[1;32m----> 2\u001b[1;33m \u001b[0mdriver\u001b[0m \u001b[1;33m=\u001b[0m \u001b[0mwebdriver\u001b[0m\u001b[1;33m.\u001b[0m\u001b[0mchrome\u001b[0m\u001b[1;33m(\u001b[0m\u001b[1;33m)\u001b[0m\u001b[1;33m\u001b[0m\u001b[1;33m\u001b[0m\u001b[0m\n\u001b[0m\u001b[0;32m      3\u001b[0m \u001b[0mhelp\u001b[0m\u001b[1;33m(\u001b[0m\u001b[0mdriver\u001b[0m\u001b[1;33m.\u001b[0m\u001b[0mget\u001b[0m\u001b[1;33m(\u001b[0m\u001b[1;33m)\u001b[0m\u001b[1;33m)\u001b[0m\u001b[1;33m\u001b[0m\u001b[1;33m\u001b[0m\u001b[0m\n",
      "\u001b[1;31mTypeError\u001b[0m: 'module' object is not callable"
     ]
    }
   ],
   "source": []
  },
  {
   "cell_type": "code",
   "execution_count": 39,
   "metadata": {},
   "outputs": [],
   "source": [
    "#鼠标移动到某个元素的位置\n",
    "from selenium import webdriver\n",
    "from selenium.webdriver import ActionChains\n",
    "import time\n",
    "\n",
    "driver = webdriver.Chrome()\n",
    "driver.get(\"http://www.baidu.com\")\n",
    "ac=driver.find_element_by_xpath('//div/a[@href=\"http://news.baidu.com\"]')\n",
    "ActionChains(driver).move_to_element(ac).perform()\n",
    "time.sleep(10)"
   ]
  },
  {
   "cell_type": "code",
   "execution_count": 40,
   "metadata": {},
   "outputs": [],
   "source": [
    "# 将鼠标移动到某个元素位置并单击\n",
    "from selenium import webdriver\n",
    "from selenium.webdriver import ActionChains\n",
    "import time\n",
    "\n",
    "driver = webdriver.Chrome()\n",
    "driver.get(\"http://www.baidu.com\")\n",
    "ac=driver.find_element_by_xpath('//div/a[@href=\"http://news.baidu.com\"]')\n",
    "ActionChains(driver).move_to_element(ac).click(ac).perform()\n",
    "time.sleep(10)"
   ]
  },
  {
   "cell_type": "code",
   "execution_count": null,
   "metadata": {},
   "outputs": [],
   "source": [
    "#将鼠标移动到某个元素位置双击\n",
    "from selenium import webdriver\n",
    "from selenium.webdriver import ActionChains\n",
    "import time\n",
    "\n",
    "driver = webdriver.Chrome()\n",
    "driver.get(\"http://www.baidu.com\")\n",
    "ac=driver.find_element_by_xpath('//div/a[@href=\"http://news.baidu.com\"]')\n",
    "ActionChains(driver).move_to_element(ac).doubleclick(ac).perform()\n",
    "time.sleep(10)"
   ]
  },
  {
   "cell_type": "code",
   "execution_count": 41,
   "metadata": {},
   "outputs": [],
   "source": [
    "#在某个元素右击\n",
    "from selenium import webdriver\n",
    "from selenium.webdriver import ActionChains\n",
    "import time\n",
    "\n",
    "driver = webdriver.Chrome()\n",
    "driver.get(\"http://www.baidu.com\")\n",
    "ac=driver.find_element_by_xpath('//div/a[@href=\"http://news.baidu.com\"]')\n",
    "ActionChains(driver).move_to_element(ac).context_click(ac).perform()\n",
    "time.sleep(10)"
   ]
  },
  {
   "cell_type": "code",
   "execution_count": 42,
   "metadata": {},
   "outputs": [],
   "source": [
    "#在某个元素的位置左键单击并hold住\n",
    "\n",
    "from selenium import webdriver\n",
    "from selenium.webdriver import ActionChains\n",
    "import time\n",
    "\n",
    "driver = webdriver.Chrome()\n",
    "driver.get(\"http://www.baidu.com\")\n",
    "ac=driver.find_element_by_xpath('//div/a[@href=\"http://news.baidu.com\"]')\n",
    "ActionChains(driver).move_to_element(ac).click_and_hold(ac).perform()\n",
    "time.sleep(10)"
   ]
  },
  {
   "cell_type": "code",
   "execution_count": 43,
   "metadata": {},
   "outputs": [],
   "source": [
    "#将元素拖拽到另一个元素的位置\n",
    "from selenium import webdriver\n",
    "from selenium.webdriver import ActionChains\n",
    "import time\n",
    "\n",
    "driver = webdriver.Chrome()\n",
    "driver.get(\"http://www.baidu.com\")\n",
    "ac1=driver.find_element_by_xpath('//div/a[@href=\"http://news.baidu.com\"]')\n",
    "\n",
    "ac2=driver.find_element_by_xpath('//input[@id=\"kw\"]')\n",
    "ActionChains(driver).drag_and_drop(ac1,ac2).perform()\n",
    "time.sleep(10)\n",
    "\n"
   ]
  },
  {
   "source": [
    "## 执行Javascript\n",
    "#使用selenium执行自定义的javascr脚本，来查找所需的页面元素"
   ],
   "cell_type": "markdown",
   "metadata": {}
  },
  {
   "cell_type": "code",
   "execution_count": null,
   "metadata": {},
   "outputs": [],
   "source": [
    "from selenium import webdriver  # 来操纵浏览器\n",
    "from selenium.common.exceptions import TimeoutException \n",
    "from selenium.webdriver.support.ui import WebDriverWait\n",
    "from selenium.webdriver.support import expected_conditions as  EC \n",
    "import time\n",
    "\n",
    "driver=webdriver.Chrome()\n",
    "\n",
    "driver.get(\"https://ssl.zc.qq.com/v3/index-chs.html\")\n",
    "\n",
    "print(driver.title)\n",
    "\n",
    "try:\n",
    "    WebDriverWait(driver,10).until(EC.title_contains(\"QQ注册\"))\n",
    "\n",
    "    inputs=driver.execute_script(\"var inputs=[];inputs.push(document.g\")"
   ]
  }
 ]
}