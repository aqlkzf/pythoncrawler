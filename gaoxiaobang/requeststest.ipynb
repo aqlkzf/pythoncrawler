{
 "metadata": {
  "language_info": {
   "codemirror_mode": {
    "name": "ipython",
    "version": 3
   },
   "file_extension": ".py",
   "mimetype": "text/x-python",
   "name": "python",
   "nbconvert_exporter": "python",
   "pygments_lexer": "ipython3",
   "version": "3.8.5-final"
  },
  "orig_nbformat": 2,
  "kernelspec": {
   "name": "python3",
   "display_name": "Python 3",
   "language": "python"
  }
 },
 "nbformat": 4,
 "nbformat_minor": 2,
 "cells": [
  {
   "source": [
    "## 任务\n",
    "1.构建requests爬虫程序框架"
   ],
   "cell_type": "markdown",
   "metadata": {}
  },
  {
   "cell_type": "code",
   "execution_count": 1,
   "metadata": {},
   "outputs": [
    {
     "output_type": "stream",
     "name": "stdout",
     "text": [
      "Help on package requests:\n\nNAME\n    requests\n\nDESCRIPTION\n    Requests HTTP Library\n    ~~~~~~~~~~~~~~~~~~~~~\n    \n    Requests is an HTTP library, written in Python, for human beings.\n    Basic GET usage:\n    \n       >>> import requests\n       >>> r = requests.get('https://www.python.org')\n       >>> r.status_code\n       200\n       >>> b'Python is a programming language' in r.content\n       True\n    \n    ... or POST:\n    \n       >>> payload = dict(key1='value1', key2='value2')\n       >>> r = requests.post('https://httpbin.org/post', data=payload)\n       >>> print(r.text)\n       {\n         ...\n         \"form\": {\n           \"key1\": \"value1\",\n           \"key2\": \"value2\"\n         },\n         ...\n       }\n    \n    The other HTTP methods are supported - see `requests.api`. Full documentation\n    is at <https://requests.readthedocs.io>.\n    \n    :copyright: (c) 2017 by Kenneth Reitz.\n    :license: Apache 2.0, see LICENSE for more details.\n\nPACKAGE CONTENTS\n    __version__\n    _internal_utils\n    adapters\n    api\n    auth\n    certs\n    compat\n    cookies\n    exceptions\n    help\n    hooks\n    models\n    packages\n    sessions\n    status_codes\n    structures\n    utils\n\nFUNCTIONS\n    check_compatibility(urllib3_version, chardet_version)\n\nDATA\n    __author_email__ = 'me@kennethreitz.org'\n    __build__ = 140545\n    __cake__ = '✨ 🍰 ✨'\n    __copyright__ = 'Copyright 2020 Kenneth Reitz'\n    __description__ = 'Python HTTP for Humans.'\n    __license__ = 'Apache 2.0'\n    __title__ = 'requests'\n    __url__ = 'https://requests.readthedocs.io'\n    codes = <lookup 'status_codes'>\n\nVERSION\n    2.25.1\n\nAUTHOR\n    Kenneth Reitz\n\nFILE\n    d:\\programdata\\anaconda3new\\lib\\site-packages\\requests\\__init__.py\n\n\n"
     ]
    }
   ],
   "source": [
    "import requests\n",
    "help(requests)"
   ]
  },
  {
   "cell_type": "code",
   "execution_count": 3,
   "metadata": {},
   "outputs": [
    {
     "output_type": "stream",
     "name": "stdout",
     "text": [
      "<!DOCTYPE html>\n<!--STATUS OK--><html> <head><meta http-equiv=content-type content=text/html;charset=utf-8><meta http-equiv=X-UA-Compatible content=IE=Edge><meta content=always name=referrer><link rel=stylesheet type=text/css href=http://s1.bdstatic.com/r/www/cache/bdorz/baidu.min.css><title>ç¾åº¦ä¸ä¸ï¼ä½ å°±ç¥é</title></head> <body link=#0000cc> <div id=wrapper> <div id=head> <div class=head_wrapper> <div class=s_form> <div class=s_form_wrapper> <div id=lg> <img hidefocus=true src=//www.baidu.com/img/bd_logo1.png width=270 height=129> </div> <form id=form name=f action=//www.baidu.com/s class=fm> <input type=hidden name=bdorz_come value=1> <input type=hidden name=ie value=utf-8> <input type=hidden name=f value=8> <input type=hidden name=rsv_bp value=1> <input type=hidden name=rsv_idx value=1> <input type=hidden name=tn value=baidu><span class=\"bg s_ipt_wr\"><input id=kw name=wd class=s_ipt value maxlength=255 autocomplete=off autofocus></span><span class=\"bg s_btn_wr\"><input type=submit id=su value=ç¾åº¦ä¸ä¸ class=\"bg s_btn\"></span> </form> </div> </div> <div id=u1> <a href=http://news.baidu.com name=tj_trnews class=mnav>æ°é»</a> <a href=http://www.hao123.com name=tj_trhao123 class=mnav>hao123</a> <a href=http://map.baidu.com name=tj_trmap class=mnav>å°å¾</a> <a href=http://v.baidu.com name=tj_trvideo class=mnav>è§é¢</a> <a href=http://tieba.baidu.com name=tj_trtieba class=mnav>è´´å§</a> <noscript> <a href=http://www.baidu.com/bdorz/login.gif?login&amp;tpl=mn&amp;u=http%3A%2F%2Fwww.baidu.com%2f%3fbdorz_come%3d1 name=tj_login class=lb>ç»å½</a> </noscript> <script>document.write('<a href=\"http://www.baidu.com/bdorz/login.gif?login&tpl=mn&u='+ encodeURIComponent(window.location.href+ (window.location.search === \"\" ? \"?\" : \"&\")+ \"bdorz_come=1\")+ '\" name=\"tj_login\" class=\"lb\">ç»å½</a>');</script> <a href=//www.baidu.com/more/ name=tj_briicon class=bri style=\"display: block;\">æ´å¤äº§å</a> </div> </div> </div> <div id=ftCon> <div id=ftConw> <p id=lh> <a href=http://home.baidu.com>å³äºç¾åº¦</a> <a href=http://ir.baidu.com>About Baidu</a> </p> <p id=cp>&copy;2017&nbsp;Baidu&nbsp;<a href=http://www.baidu.com/duty/>ä½¿ç¨ç¾åº¦åå¿è¯»</a>&nbsp; <a href=http://jianyi.baidu.com/ class=cp-feedback>æè§åé¦</a>&nbsp;äº¬ICPè¯030173å·&nbsp; <img src=//www.baidu.com/img/gs.gif> </p> </div> </div> </div> </body> </html>\n\n"
     ]
    }
   ],
   "source": [
    "import requests\n",
    "\n",
    "url=\"http://www.baidu.com\"\n",
    "\n",
    "r=requests.get(url)\n",
    "print(r.text)"
   ]
  },
  {
   "cell_type": "code",
   "execution_count": null,
   "metadata": {},
   "outputs": [],
   "source": [
    "def getHtml(url):\n",
    "    try:\n",
    "        "
   ]
  }
 ]
}