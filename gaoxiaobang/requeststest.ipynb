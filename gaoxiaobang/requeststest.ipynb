{
 "metadata": {
  "language_info": {
   "codemirror_mode": {
    "name": "ipython",
    "version": 3
   },
   "file_extension": ".py",
   "mimetype": "text/x-python",
   "name": "python",
   "nbconvert_exporter": "python",
   "pygments_lexer": "ipython3",
   "version": "3.8.5-final"
  },
  "orig_nbformat": 2,
  "kernelspec": {
   "name": "python3",
   "display_name": "Python 3",
   "language": "python"
  }
 },
 "nbformat": 4,
 "nbformat_minor": 2,
 "cells": [
  {
   "source": [
    "## 任务\n",
    "1.构建requests爬虫程序框架"
   ],
   "cell_type": "markdown",
   "metadata": {}
  },
  {
   "cell_type": "code",
   "execution_count": null,
   "metadata": {},
   "outputs": [],
   "source": [
    "import requests\n",
    "help(requests)"
   ]
  },
  {
   "cell_type": "code",
   "execution_count": null,
   "metadata": {},
   "outputs": [],
   "source": [
    "import requests\n",
    "\n",
    "url=\"http://www.baidu.com\"\n",
    "\n",
    "r=requests.get(url)\n",
    "print(r.text)"
   ]
  },
  {
   "cell_type": "code",
   "execution_count": null,
   "metadata": {},
   "outputs": [],
   "source": [
    "def getHtml(url):\n",
    "    try:\n",
    "        headers={\"User-Agent\": \"MQQBrowser/26 Mozilla/5.0 (Linux; U; Android 2.3.7; zh-cn; MB200 Build/GRJ22; CyanogenMod-7) AppleWebKit/533.1                    (KHTML,like Gecko) Version/4.0 Mobile Safari/533.1\"}\n",
    "        \n",
    "        r=requests.get(url,headers=headers)\n",
    "        r.raise_for_status()\n",
    "        r.encoding=r.apparent_encoding\n",
    "        return r.text\n",
    "    except:\n",
    "        return \"Some exception raised\"\n",
    "url=\"http://www.baidu.com\"\n",
    "getHtml(url)"
   ]
  },
  {
   "source": [
    "## 任务2  定制http请求 ，向服务器传递参数"
   ],
   "cell_type": "markdown",
   "metadata": {}
  },
  {
   "cell_type": "code",
   "execution_count": null,
   "metadata": {},
   "outputs": [],
   "source": [
    "url=\"http://www.httpbin.org/user-agent\"\n",
    "getHtml(url)"
   ]
  },
  {
   "source": [
    "##get 方法提交参数"
   ],
   "cell_type": "markdown",
   "metadata": {}
  },
  {
   "cell_type": "code",
   "execution_count": null,
   "metadata": {},
   "outputs": [],
   "source": [
    "def getHtml(url,querystr):\n",
    "    try:\n",
    "        headers={\"User-Agent\": \"MQQBrowser/26 Mozilla/5.0 (Linux; U; Android 2.3.7; zh-cn; MB200 Build/GRJ22; CyanogenMod-7) AppleWebKit/533.1                    (KHTML,like Gecko) Version/4.0 Mobile Safari/533.1\"}\n",
    "        queryload={\"wd\":querystr}\n",
    "        r=requests.get(url,params=queryload,headers=headers)\n",
    "        r.raise_for_status()\n",
    "        r.encoding=r.apparent_encoding\n",
    "        return r.text\n",
    "    except:\n",
    "        return \"Some exception raised\"\n",
    "url=\"http://www.baidu.com/s?\"\n",
    "getHtml(url,\"北京\")"
   ]
  },
  {
   "source": [
    "## post 方法传递参数"
   ],
   "cell_type": "markdown",
   "metadata": {}
  },
  {
   "cell_type": "code",
   "execution_count": null,
   "metadata": {},
   "outputs": [],
   "source": [
    "def getHtml(url,querystr):\n",
    "    try:\n",
    "        headers={\"User-Agent\": \"MQQBrowser/26 Mozilla/5.0 (Linux; U; Android 2.3.7; zh-cn; MB200 Build/GRJ22; CyanogenMod-7) AppleWebKit/533.1                    (KHTML,like Gecko) Version/4.0 Mobile Safari/533.1\"}\n",
    "        queryload={\"wd\":querystr}\n",
    "        r=requests.post(url,data=queryload,headers=headers)\n",
    "        r.raise_for_status()\n",
    "        r.encoding=r.apparent_encoding\n",
    "        return r.text\n",
    "    except:\n",
    "        return \"Some exception raised\"\n",
    "url=\"http://xwqy.gsxt.gov.cn/etps/productInfoList.do\"\n",
    "forndata={\"loanQuota\":\"100万元及以下\",\"loanTerm\":\"3年以上\",\"guaranId\":\"资产抵押\"}\n",
    "getHtml(url,forndata)"
   ]
  },
  {
   "source": [
    "## 使用对话对象处理cookie"
   ],
   "cell_type": "markdown",
   "metadata": {}
  },
  {
   "cell_type": "code",
   "execution_count": null,
   "metadata": {},
   "outputs": [],
   "source": [
    "def getHtml(url,cookies):\n",
    "    try:\n",
    "        headers={\"User-Agent\":\"Mozilla/5.0 (Windows NT 10.0; Win64; x64) AppleWebKit/537.36 (KHTML, like Gecko) Chrome/88.0.4324.150 Safari/537.36\"}\n",
    "        s=requests.Session()\n",
    "        s.cookies.update(cookies)\n",
    "        r=s.get(url,headers=headers)\n",
    "        r.raise_for_status()\n",
    "        r.encoding=r.apparent_encoding\n",
    "        return r.text\n",
    "    except:\n",
    "        return \"Some exception raised\"\n",
    "url=\"http://i.baidu.com/\"\n",
    "cookies=dict(PSTM=\"1594866947\",BAIDUID=\"B24AF15C5549B460F87DD5A2FA3AB78B\",FG=\"1\",BIDUPSID=\"A72DD4635BA66BD1629F2ED8978472C9\",BDUSS=\"ENRVlJsWnliMWdFM1gtOU1sUkwzWDhic2VHMzFZeWp3a1RCTHdzUUJCZkppY2hmRVFBQUFBJCQAAAAAAAAAAAEAAADIwJWexLDR1cnxt~vXzwAAAAAAAAAAAAAAAAAAAAAAAAAAAAAAAAAAAAAAAAAAAAAAAAAAAAAAAAAAAAAAAAAAAAAAAMn8oF~J~KBfR\", BDORZ=\"B490B5EBF6F3CD402E515D22BCDA1598\",H_PS_PSSID=\"33425_33581_33273_31254_33570_33334_26350_22157\",delPer=\"0\",PSINO=\"1\",BA_HECTOR=\"8g8004240hag8la0mp1g2kf0v0q\",PHPSESSID=\"e0hlffrjlpj1s07qnuj1tmdcn2\",Hm_lvt_4010fd5075fcfe46a16ec4cb65e02f04=\"1613134914,1613381029\",Hm_lpvt_4010fd5075fcfe46a16ec4cb65e02f04=\"1613381043\")\n",
    "getHtml(url,cookies)"
   ]
  },
  {
   "source": [
    "## 使用正则表达式解析文本内容\n"
   ],
   "cell_type": "markdown",
   "metadata": {}
  },
  {
   "cell_type": "code",
   "execution_count": null,
   "metadata": {},
   "outputs": [],
   "source": [
    "import re\n",
    "#编译正则表达式\n",
    "\n",
    "text=\"Hello world, adfasdf.12343434@163.com,difsfoijkn@126.com,76283483768\"\n",
    "pattern=re.compile(\"\\w+@\\w+.com\")\n",
    "print(pattern)\n",
    "# 使用pattern 对象对目标字符串进行匹配\n",
    "\n"
   ]
  },
  {
   "cell_type": "code",
   "execution_count": null,
   "metadata": {},
   "outputs": [],
   "source": [
    "m=pattern.findall(text)"
   ]
  },
  {
   "cell_type": "code",
   "execution_count": null,
   "metadata": {},
   "outputs": [],
   "source": [
    "m"
   ]
  },
  {
   "cell_type": "code",
   "execution_count": null,
   "metadata": {},
   "outputs": [],
   "source": [
    "m=pattern.split(text)\n",
    "m"
   ]
  },
  {
   "cell_type": "code",
   "execution_count": null,
   "metadata": {},
   "outputs": [],
   "source": [
    "text"
   ]
  },
  {
   "cell_type": "code",
   "execution_count": null,
   "metadata": {},
   "outputs": [],
   "source": [
    "pattern.sub(\"newvalue\",text)"
   ]
  },
  {
   "source": [
    "## 提取结果信息"
   ],
   "cell_type": "markdown",
   "metadata": {}
  },
  {
   "cell_type": "code",
   "execution_count": null,
   "metadata": {},
   "outputs": [],
   "source": [
    "m=pattern.search(text)\n",
    "m"
   ]
  },
  {
   "cell_type": "code",
   "execution_count": null,
   "metadata": {},
   "outputs": [],
   "source": [
    "m.group"
   ]
  },
  {
   "cell_type": "code",
   "execution_count": null,
   "metadata": {},
   "outputs": [],
   "source": [
    "m=pattern.search(text)\n",
    "print(m)\n",
    "print(m.span())\n",
    "print(m.group())"
   ]
  },
  {
   "source": [
    "## 完整实例"
   ],
   "cell_type": "markdown",
   "metadata": {}
  },
  {
   "cell_type": "code",
   "execution_count": 27,
   "metadata": {},
   "outputs": [
    {
     "output_type": "stream",
     "name": "stdout",
     "text": [
      "['百度新闻', '海量中文资讯平台', '百度新闻是包含海量资讯的新闻服务平台', '真实反映每时每刻的新闻热点', '您可以搜索新闻事件', '热点话题', '人物动态', '产品资讯等', '快速了解它们的最新进展', '网页', '新闻', '贴吧', '知道', '音乐', '图片', '视频', '地图', '文库', '百度新闻', '百度新闻', '百度新闻', '百度一下', '帮助', '新闻全文', '新闻标题', '首页', '国内', '国际', '军事', '财经', '娱乐', '体育', '互联网', '科技', '游戏', '女人', '汽车', '房产', '首页', '国内', '国际', '军事', '财经', '娱乐', '体育', '互联网', '科技', '游戏', '女人', '汽车', '房产', '点击刷新', '将会有未读推荐', '热点要闻', '总书记的问候丨战旗村里话振兴', '阳和启蛰', '品物皆春', '弘扬改革精神', '推进高质量发展', '亿元', '史上最强春节档', '天总票房超越', '年', '什么神仙节目播出', '天还能霸占热搜', '我的', '李焕英', '世卫专家首次披露', '原来中国做了这么多', '各族人民幸福吉祥', '伟大祖国繁荣富强', '省区市新增确诊病例', '例', '均为境外输入病例', '全国高中风险地区降至个位数', '世卫组织', '新冠病毒', '极不可能', '源于实验室泄露', '塞尔维亚总统向中国专家授勋', '感谢他们在抗疫中的贡献', '园', '地过年解锁新年新气象', '全国旅游市场秩序井然', '钱袋子鼓起来', '好日子火起来', '社会平安和谐', '人民安居乐业', '加拿大同一些国家发表反对任意拘押宣言', '中方回应', '年中国电影总票房破百亿', '大火后的翁丁村', '只剩三四栋较完整房屋', '一周前曾发生火灾', '解放军军机为何常去台湾西南空域', '台专家解析', '慕尼黑安全会议', '主席', '台海成最可能爆发军事冲突区域', '黎智英等', '人涉未经批准集结案今日应讯', '被判无罪后首露面', '特朗普路过支持者集会竖起大拇指', '佩洛西宣布计划成立', '式委员会', '调查国会骚乱', '空缺近半年', '迎首位女性总干事', '联军在伊拉克基地遭袭致', '死', '伤', '美国务卿誓言追责', '冬季风暴侵袭美国得州', '超', '万人失去电力供应', '至少', '人死亡', '数百人失踪', '一船在刚果河倾覆', '成都大熊猫基地换春装', '萌宠小可爱送祝福', '穿闪送制服进商场被阻拦男子发声', '只要尊重和道歉', '山东一蛋糕店起火致', '人死亡', '官方通报', '死者系一家人', '海南一冲锋舟遇险', '人死亡', '人失联', '春节居家人情相处指南', '尊重差异多沟通', '适当投其所好', '主人回老家过年', '猫咪独自在家两眼泪汪汪', '新片票房超', '亿', '贾玲成中国影史票房最高女导演', '女婿给长辈磕头拜年', '谁知太用力', '直接把塑料盆磕开花', '男子在电影院戴假发偷拍女厕', '影院', '当时就扭送派出所', '北方多地气温探底', '江南华南降温明显', '丈母娘自榨', '斤花生油送女婿', '不料撒一后备箱', '邵阳一游乐园飞椅失控坠落', '致', '人受伤', '加载中请您耐心等待', '点击刷新', '将会有未读推荐', '如果有图的文章出现白图的情况', '图片大小小于', '则视为白图', '去掉图片展示', '更多个性推荐新闻', '热搜新闻词', '中美元首通话', '世界接收到这些积极信号', '中美元首通话', '世界接收到这些积极信号', '引经据典话新春', '品读习近平引用的诗词之美', '引经据典话新春', '品读习近平引用的', '诗词之美', '大年初五迎财神', '大年初五迎财神', '省区市本土确诊零新增', '省区市', '本土确诊零新增', '全国中高风险地区降至个位数', '全国中高风险', '地区降至个位数', '情人节红包数据有人', '天收', '个', '情人节红包数据', '有人', '天收', '个', '河南一村庄自制土味摩天轮', '河南一村庄', '自制土味摩天轮', '主人回家过年猫咪独自留守落泪', '主人回家过年猫', '咪独自留守落泪', '人工眼角膜移植术成功了', '人工眼角膜', '移植术成功了', '美国已发现', '种新冠病毒变异株', '美国已发现', '种', '新冠病毒变异株', '百家号', '疯狂的', '背后暴露了什么', '疯狂的', '背后暴露了什么', '疯狂的', '背后暴露了什么', '那些不回家过年的年轻人', '那些不回家过年的年轻人', '别样年夜饭点燃半成品战场', '别样年夜饭点燃半成品战场', '在硅谷盲盒风', '曾经的笑话渐成主流', '高通谷歌微软联合施压', '英伟达收购', '不易', '外卖小哥', '大厂职员', '他们在异乡这样说', '新茶饮真没那么好赚钱', '奈雪向左', '喜茶向右', '别急', '让', '飞一会儿', '网约车爆单司机称', '接不过来', '日收入翻倍', '如今华尔街热捧的', '到底是什么', '中视频', '斗鱼的二次创业', '今年春节档', '线上影院为你在线营业', '对', '站当前问题的总看法', '狂人马斯克', '为什么能频频成功跨界', '消失在春晚的', '股神话', '点燃', '下沉市场的烟花生意', '秒大片看天问一号', '近火捕获制动', '全过程', '美媒爆料', '美国要求', '出售其在美资产的计划已', '无限期', '当', '回归科学', '我们能发现什么未知的秘密', '没有爸妈的年夜饭', '吃出一门新生意', '没有爸妈的年夜饭', '吃出一门新生意', '没有爸妈的年夜饭', '吃出一门新生意', '北京', '新闻', '切换城市', '新闻图片', '新闻资讯', '返回', '您所选城市新闻不足', '将展示省会新闻', '正在加载', '请稍候', '辟谣', '辟谣', '举报', '举报', '二维码', '二维码', '百度新闻客户端', '扫描二维码下载', '随时随地收看更多新闻', '收藏本站', '收藏本站', '搜索', '搜索', '用户反馈', '用户反馈', '输入搜索词', '搜索', '收起', '更多精彩内容', '版下载', '版下载', '扫描二维码', '收看更多新闻', '百度新闻独家出品', '新闻由机器选取每', '分钟自动更新', '百度新闻搜索源于互联网新闻网站和频道', '系统自动分类排序', '百度不刊登或转载任何完整的新闻内容', '责任编辑', '胡彦', '刘石娟', '谢建', '李芳雨', '储信艳', '焦碧碧', '禤聪', '王鑫', '崔超', '违法和不良信息举报电话', '用户协议', '隐私策略', '投诉中心', '京公网安备', '号', '互联网新闻信息服务许可', '使用百度前必读', '是否渲染的标志', '保证栏目按', '的顺序', '到', '上', '渲染逻辑重构', '数组插入', '时间戳', '防止', '缓存', '请求导致第二次不请求数据', '指的是滚动条顶部到网页顶部的距离', '图片延迟加载', '南京秦淮河畔彩灯璀璨贺新春', '南京秦淮河畔彩灯璀璨贺新春', '福州防空洞成春节网红打卡点', '福州防空洞成春节网红打卡点', '气温寒冷', '辽宁大连海水浪花形成冰挂景观', '气温寒冷', '辽宁大连海水浪花形成冰挂景观', '成都', '春雨润春花', '成都', '春雨润春花', '奔波在万家团圆时', '奔波在万家团圆时', '危地马拉富埃戈火山星空下喷发', '画面壮观', '危地马拉富埃戈火山星空下喷发', '画面壮观', '美国得克萨斯州休斯敦遭暴风雪袭击', '美国得克萨斯州休斯敦遭暴风雪袭击', '南非', '疫情下的开学日', '南非', '疫情下的开学日', '地方新闻和各地房产新闻共享', '配置', '北京', '北京', '各地', '新闻', '新闻', '新闻', '页面加载后', '向', '发送一个', '统计', '传入', '区分产品和频道', '页面加载后', '初始化发送往百度统计的打点', '页面加载后', '向百度统计发送页面的', '的', '中有', '则忽略限流', '限制流量', '只传', '的统计量', '性能', '异常', '新特性', '打到线下', '上线前需改为', '自动统计时长']\n"
     ]
    }
   ],
   "source": [
    "import requests\n",
    "import re\n",
    "\n",
    "\n",
    "def getHtml(url):\n",
    "    try:\n",
    "        headers={\"User-Agent\":\"Mozilla/5.0 (Windows NT 10.0; Win64; x64) AppleWebKit/537.36 (KHTML, like Gecko) Chrome/88.0.4324.150 Safari/537.36\"}\n",
    "        \n",
    "        r=requests.get(url,headers=headers)\n",
    "        r.raise_for_status()\n",
    "        r.encoding=r.apparent_encoding\n",
    "        return r.text\n",
    "    except:\n",
    "        return \"Some exception raised\"\n",
    "\n",
    "\n",
    "def parseTextByRe(htmltext,pattern):\n",
    "    rlist=pattern.findall(htmltext)\n",
    "    return rlist\n",
    "\n",
    "\n",
    "\n",
    "url=\"http://news.baidu.com\"\n",
    "html=getHtml(url)\n",
    "\n",
    "pattern=re.compile(u'[\\u4e00-\\u9fa5]+')\n",
    "r=parseTextByRe(html,pattern)\n",
    "\n",
    "print(r)"
   ]
  },
  {
   "source": [
    "## 解析类XML数据"
   ],
   "cell_type": "markdown",
   "metadata": {}
  },
  {
   "cell_type": "code",
   "execution_count": 28,
   "metadata": {},
   "outputs": [
    {
     "output_type": "stream",
     "name": "stdout",
     "text": [
      "Help on package lxml:\n\nNAME\n    lxml - # this is a package\n\nPACKAGE CONTENTS\n    ElementInclude\n    _elementpath\n    builder\n    cssselect\n    doctestcompare\n    etree\n    html (package)\n    includes (package)\n    isoschematron (package)\n    objectify\n    pyclasslookup\n    sax\n    usedoctest\n\nFUNCTIONS\n    get_include()\n        Returns a list of header include paths (for lxml itself, libxml2\n        and libxslt) needed to compile C code against lxml if it was built\n        with statically linked libraries.\n\nVERSION\n    4.6.2\n\nFILE\n    d:\\programdata\\anaconda3new\\lib\\site-packages\\lxml\\__init__.py\n\n\n"
     ]
    }
   ],
   "source": [
    "import lxml\n",
    "help(lxml)"
   ]
  },
  {
   "cell_type": "code",
   "execution_count": null,
   "metadata": {},
   "outputs": [],
   "source": [
    "from lxml import etree\n"
   ]
  }
 ]
}