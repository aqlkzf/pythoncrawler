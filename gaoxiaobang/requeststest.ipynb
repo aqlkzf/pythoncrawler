{
 "metadata": {
  "language_info": {
   "codemirror_mode": {
    "name": "ipython",
    "version": 3
   },
   "file_extension": ".py",
   "mimetype": "text/x-python",
   "name": "python",
   "nbconvert_exporter": "python",
   "pygments_lexer": "ipython3",
   "version": "3.8.5-final"
  },
  "orig_nbformat": 2,
  "kernelspec": {
   "name": "python3",
   "display_name": "Python 3",
   "language": "python"
  }
 },
 "nbformat": 4,
 "nbformat_minor": 2,
 "cells": [
  {
   "source": [
    "## 任务\n",
    "1.构建requests爬虫程序框架"
   ],
   "cell_type": "markdown",
   "metadata": {}
  },
  {
   "cell_type": "code",
   "execution_count": null,
   "metadata": {},
   "outputs": [],
   "source": [
    "import requests\n",
    "help(requests)"
   ]
  },
  {
   "cell_type": "code",
   "execution_count": null,
   "metadata": {},
   "outputs": [],
   "source": [
    "import requests\n",
    "\n",
    "url=\"http://www.baidu.com\"\n",
    "\n",
    "r=requests.get(url)\n",
    "print(r.text)"
   ]
  },
  {
   "cell_type": "code",
   "execution_count": null,
   "metadata": {},
   "outputs": [],
   "source": [
    "def getHtml(url):\n",
    "    try:\n",
    "        headers={\"User-Agent\": \"MQQBrowser/26 Mozilla/5.0 (Linux; U; Android 2.3.7; zh-cn; MB200 Build/GRJ22; CyanogenMod-7) AppleWebKit/533.1                    (KHTML,like Gecko) Version/4.0 Mobile Safari/533.1\"}\n",
    "        \n",
    "        r=requests.get(url,headers=headers)\n",
    "        r.raise_for_status()\n",
    "        r.encoding=r.apparent_encoding\n",
    "        return r.text\n",
    "    except:\n",
    "        return \"Some exception raised\"\n",
    "url=\"http://www.baidu.com\"\n",
    "getHtml(url)"
   ]
  },
  {
   "source": [
    "## 任务2  定制http请求 ，向服务器传递参数"
   ],
   "cell_type": "markdown",
   "metadata": {}
  },
  {
   "cell_type": "code",
   "execution_count": null,
   "metadata": {},
   "outputs": [],
   "source": [
    "url=\"http://www.httpbin.org/user-agent\"\n",
    "getHtml(url)"
   ]
  },
  {
   "source": [
    "##get 方法提交参数"
   ],
   "cell_type": "markdown",
   "metadata": {}
  },
  {
   "cell_type": "code",
   "execution_count": null,
   "metadata": {},
   "outputs": [],
   "source": [
    "def getHtml(url,querystr):\n",
    "    try:\n",
    "        headers={\"User-Agent\": \"MQQBrowser/26 Mozilla/5.0 (Linux; U; Android 2.3.7; zh-cn; MB200 Build/GRJ22; CyanogenMod-7) AppleWebKit/533.1                    (KHTML,like Gecko) Version/4.0 Mobile Safari/533.1\"}\n",
    "        queryload={\"wd\":querystr}\n",
    "        r=requests.get(url,params=queryload,headers=headers)\n",
    "        r.raise_for_status()\n",
    "        r.encoding=r.apparent_encoding\n",
    "        return r.text\n",
    "    except:\n",
    "        return \"Some exception raised\"\n",
    "url=\"http://www.baidu.com/s?\"\n",
    "getHtml(url,\"北京\")"
   ]
  },
  {
   "source": [
    "## post 方法传递参数"
   ],
   "cell_type": "markdown",
   "metadata": {}
  },
  {
   "cell_type": "code",
   "execution_count": null,
   "metadata": {},
   "outputs": [],
   "source": [
    "def getHtml(url,querystr):\n",
    "    try:\n",
    "        headers={\"User-Agent\": \"MQQBrowser/26 Mozilla/5.0 (Linux; U; Android 2.3.7; zh-cn; MB200 Build/GRJ22; CyanogenMod-7) AppleWebKit/533.1                    (KHTML,like Gecko) Version/4.0 Mobile Safari/533.1\"}\n",
    "        queryload={\"wd\":querystr}\n",
    "        r=requests.post(url,data=queryload,headers=headers)\n",
    "        r.raise_for_status()\n",
    "        r.encoding=r.apparent_encoding\n",
    "        return r.text\n",
    "    except:\n",
    "        return \"Some exception raised\"\n",
    "url=\"http://xwqy.gsxt.gov.cn/etps/productInfoList.do\"\n",
    "forndata={\"loanQuota\":\"100万元及以下\",\"loanTerm\":\"3年以上\",\"guaranId\":\"资产抵押\"}\n",
    "getHtml(url,forndata)"
   ]
  },
  {
   "source": [
    "## 使用对话对象处理cookie"
   ],
   "cell_type": "markdown",
   "metadata": {}
  },
  {
   "cell_type": "code",
   "execution_count": null,
   "metadata": {},
   "outputs": [],
   "source": [
    "def getHtml(url,cookies):\n",
    "    try:\n",
    "        headers={\"User-Agent\":\"Mozilla/5.0 (Windows NT 10.0; Win64; x64) AppleWebKit/537.36 (KHTML, like Gecko) Chrome/88.0.4324.150 Safari/537.36\"}\n",
    "        s=requests.Session()\n",
    "        s.cookies.update(cookies)\n",
    "        r=s.get(url,headers=headers)\n",
    "        r.raise_for_status()\n",
    "        r.encoding=r.apparent_encoding\n",
    "        return r.text\n",
    "    except:\n",
    "        return \"Some exception raised\"\n",
    "url=\"http://i.baidu.com/\"\n",
    "cookies=dict(PSTM=\"1594866947\",BAIDUID=\"B24AF15C5549B460F87DD5A2FA3AB78B\",FG=\"1\",BIDUPSID=\"A72DD4635BA66BD1629F2ED8978472C9\",BDUSS=\"ENRVlJsWnliMWdFM1gtOU1sUkwzWDhic2VHMzFZeWp3a1RCTHdzUUJCZkppY2hmRVFBQUFBJCQAAAAAAAAAAAEAAADIwJWexLDR1cnxt~vXzwAAAAAAAAAAAAAAAAAAAAAAAAAAAAAAAAAAAAAAAAAAAAAAAAAAAAAAAAAAAAAAAAAAAAAAAMn8oF~J~KBfR\", BDORZ=\"B490B5EBF6F3CD402E515D22BCDA1598\",H_PS_PSSID=\"33425_33581_33273_31254_33570_33334_26350_22157\",delPer=\"0\",PSINO=\"1\",BA_HECTOR=\"8g8004240hag8la0mp1g2kf0v0q\",PHPSESSID=\"e0hlffrjlpj1s07qnuj1tmdcn2\",Hm_lvt_4010fd5075fcfe46a16ec4cb65e02f04=\"1613134914,1613381029\",Hm_lpvt_4010fd5075fcfe46a16ec4cb65e02f04=\"1613381043\")\n",
    "getHtml(url,cookies)"
   ]
  },
  {
   "source": [
    "## 使用正则表达式解析文本内容\n"
   ],
   "cell_type": "markdown",
   "metadata": {}
  },
  {
   "cell_type": "code",
   "execution_count": 32,
   "metadata": {},
   "outputs": [
    {
     "output_type": "stream",
     "name": "stdout",
     "text": [
      "re.compile('\\\\w+@\\\\w+.com')\n"
     ]
    }
   ],
   "source": [
    "import re\n",
    "#编译正则表达式\n",
    "\n",
    "text=\"Hello world, adfasdf.12343434@163.com,difsfoijkn@126.com,76283483768\"\n",
    "pattern=re.compile(\"\\w+@\\w+.com\")\n",
    "print(pattern)\n",
    "# 使用pattern 对象对目标字符串进行匹配\n",
    "\n"
   ]
  },
  {
   "cell_type": "code",
   "execution_count": 33,
   "metadata": {},
   "outputs": [],
   "source": [
    "m=pattern.findall(text)"
   ]
  },
  {
   "cell_type": "code",
   "execution_count": 34,
   "metadata": {},
   "outputs": [
    {
     "output_type": "execute_result",
     "data": {
      "text/plain": [
       "['12343434@163.com', 'difsfoijkn@126.com']"
      ]
     },
     "metadata": {},
     "execution_count": 34
    }
   ],
   "source": [
    "m"
   ]
  },
  {
   "cell_type": "code",
   "execution_count": null,
   "metadata": {},
   "outputs": [],
   "source": []
  }
 ]
}