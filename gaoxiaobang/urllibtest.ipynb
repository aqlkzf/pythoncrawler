{
 "metadata": {
  "language_info": {
   "codemirror_mode": {
    "name": "ipython",
    "version": 3
   },
   "file_extension": ".py",
   "mimetype": "text/x-python",
   "name": "python",
   "nbconvert_exporter": "python",
   "pygments_lexer": "ipython3",
   "version": "3.8.5-final"
  },
  "orig_nbformat": 2,
  "kernelspec": {
   "name": "python3",
   "display_name": "Python 3",
   "language": "python"
  }
 },
 "nbformat": 4,
 "nbformat_minor": 2,
 "cells": [
  {
   "source": [
    "# 使用urllib 构建简单的网络爬虫\n",
    "## 目标\n",
    "1.访问指定的url，获取相应结果；\n",
    "2.设置http的请求头参数，使爬虫程序更像浏览器；\n",
    "3.使用get和post方法，像浏览器传递参数；\n",
    "4.学会处理一些简单异常；"
   ],
   "cell_type": "markdown",
   "metadata": {}
  },
  {
   "cell_type": "code",
   "execution_count": null,
   "metadata": {
    "tags": [
     "outputPrepend"
    ]
   },
   "outputs": [],
   "source": [
    "import urllib.request\n",
    "help(urllib.request)"
   ]
  },
  {
   "source": [
    "使用urllib.request.urlopen() 访问url"
   ],
   "cell_type": "markdown",
   "metadata": {}
  },
  {
   "cell_type": "code",
   "execution_count": null,
   "metadata": {},
   "outputs": [],
   "source": [
    "import urllib.request\n",
    "help(urllib.request.urlopen)"
   ]
  },
  {
   "cell_type": "code",
   "execution_count": null,
   "metadata": {},
   "outputs": [],
   "source": [
    "import urllib.request\n",
    "url=\"http://www.baidu.com\"\n",
    "r=urllib.request.urlopen(url)\n",
    "print(r.geturl())\n",
    "print(\"\\n\")\n",
    "print(r.info())\n",
    "print(r.getcode())"
   ]
  },
  {
   "cell_type": "code",
   "execution_count": null,
   "metadata": {
    "tags": []
   },
   "outputs": [],
   "source": [
    "print(r.read().decode('utf-8'))"
   ]
  },
  {
   "cell_type": "code",
   "execution_count": null,
   "metadata": {},
   "outputs": [],
   "source": [
    "help(r.read)"
   ]
  },
  {
   "cell_type": "code",
   "execution_count": null,
   "metadata": {},
   "outputs": [],
   "source": [
    "print(r.headers)"
   ]
  },
  {
   "cell_type": "code",
   "execution_count": null,
   "metadata": {},
   "outputs": [],
   "source": [
    "import urllib.request\n",
    "url=\"http://httpbin.org/user-agent\"\n",
    "headers={\"User-Agent\": \"Mozilla/5.0 (Windows NT 10.0; Win64; x64) AppleWebKit/537.36 (KHTML, like Gecko) Chrome/88.0.4324.104 Safari/537.36\"}\n",
    "request=urllib.request.Request(url,headers=headers)\n",
    "with urllib.request.urlopen(request)  as r:\n",
    "    print(r.read().decode('utf-8'))\n",
    "# r=urllib.request.urlopen(url)\n",
    "# print(r.read().decode(\"utf-8\"))"
   ]
  },
  {
   "source": [
    "## get post 传递参数"
   ],
   "cell_type": "markdown",
   "metadata": {}
  },
  {
   "cell_type": "code",
   "execution_count": null,
   "metadata": {},
   "outputs": [],
   "source": [
    "import urllib.request\n",
    "import urllib.parse\n",
    "url=\"https://www.baidu.com/s?\"\n",
    "querystr={\"wd\":\"北京\"}\n",
    "url=url+urllib.parse.urlencode(querystr)\n",
    "#print(url)\n",
    "headers={\"User-Agent\": \"MQQBrowser/26 Mozilla/5.0 (Linux; U; Android 2.3.7; zh-cn; MB200 Build/GRJ22; CyanogenMod-7) AppleWebKit/533.1 (KHTML,like Gecko) Version/4.0 Mobile Safari/533.1\"}\n",
    "request=urllib.request.Request(url,headers=headers)\n",
    "\n",
    "with urllib.request.urlopen(request) as r:\n",
    "    print(r.read().decode('utf-8'))"
   ]
  },
  {
   "cell_type": "code",
   "execution_count": null,
   "metadata": {},
   "outputs": [],
   "source": [
    "import urllib.request\n",
    "import urllib.parse\n",
    "url=\"http://xwqy.gsxt.gov.cn/etps/productInfoList.do\"\n",
    "\n",
    "payload={\"loanQuota\":\"100万元及以下\",\"loanTerm\":\"3年以上\",\"guaranId\":\"资产抵押\"}\n",
    "payload_encode=urllib.parse.urlencode(payload).encode(\"utf-8\")\n",
    "\n",
    "\n",
    "headers={\"User-Agent\": \"MQQBrowser/26 Mozilla/5.0 (Linux; U; Android 2.3.7; zh-cn; MB200 Build/GRJ22; CyanogenMod-7) AppleWebKit/533.1 (KHTML,like Gecko) Version/4.0 Mobile Safari/533.1\"}\n",
    "\n",
    "\n",
    "request=urllib.request.Request(url,data=payload_encode,headers=headers)\n",
    "\n",
    "with urllib.request.urlopen(request) as r:\n",
    "    print(r.read().decode('utf-8'))"
   ]
  },
  {
   "source": [
    "## 常见的异常处理"
   ],
   "cell_type": "markdown",
   "metadata": {}
  },
  {
   "cell_type": "code",
   "execution_count": null,
   "metadata": {},
   "outputs": [],
   "source": [
    "import urllib.request\n",
    "import urllib.parse\n",
    "url=\"http://www.google.com\"\n",
    "\n",
    "headers={\"User-Agent\": \"MQQBrowser/26 Mozilla/5.0 (Linux; U; Android 2.3.7; zh-cn; MB200 Build/GRJ22; CyanogenMod-7) AppleWebKit/533.1 (KHTML,like Gecko) Version/4.0 Mobile Safari/533.1\"}\n",
    "\n",
    "\n",
    "request=urllib.request.Request(url,headers=headers)\n",
    "try:\n",
    "    with urllib.request.urlopen(request) as r:\n",
    "        if r.status==200:\n",
    "            rf=r.read().decode('utf-8')\n",
    "            print(rf)\n",
    "            #print(r.read().decode('utf-8'))\n",
    "except urllib.error.URLError as e:\n",
    "    print(e)\n",
    "\n"
   ]
  },
  {
   "cell_type": "code",
   "execution_count": null,
   "metadata": {},
   "outputs": [],
   "source": []
  }
 ]
}